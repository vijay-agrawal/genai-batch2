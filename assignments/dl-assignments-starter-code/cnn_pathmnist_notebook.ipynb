{
 "cells": [
  {
   "cell_type": "markdown",
   "id": "8171a8e0",
   "metadata": {},
   "source": [
    "# CNN Example – Histopathology Image Classification (PathMNIST)\n",
    "\n",
    "This notebook walks through building and optimising a Convolutional Neural Network (CNN) with **PyTorch** to classify pathology images in the **PathMNIST** subset of the *MedMNIST* collection.\n",
    "\n",
    "**Learning goals**\n",
    "1. Download and prepare an image dataset with `medmnist`\n",
    "2. Build a simple CNN using `torch.nn`\n",
    "3. Use GPU acceleration when available\n",
    "4. Track training/validation loss & accuracy\n",
    "5. Evaluate with a classification report and confusion matrix\n",
    "6. Experiment with data augmentation and deeper architectures"
   ]
  },
  {
   "cell_type": "code",
   "execution_count": null,
   "id": "38b3fa01",
   "metadata": {},
   "outputs": [],
   "source": [
    "# Install dependencies (uncomment as needed)\n",
    "# !pip install -q torch torchvision torchaudio medmnist scikit-learn matplotlib"
   ]
  },
  {
   "cell_type": "code",
   "execution_count": null,
   "id": "e9a3b01a",
   "metadata": {},
   "outputs": [],
   "source": [
    "import torch, torchvision\n",
    "from torch import nn, optim\n",
    "from torchvision import transforms\n",
    "from torch.utils.data import DataLoader\n",
    "import medmnist\n",
    "from medmnist import INFO, Evaluator\n",
    "from sklearn.metrics import classification_report, confusion_matrix\n",
    "import matplotlib.pyplot as plt\n",
    "import numpy as np"
   ]
  },
  {
   "cell_type": "markdown",
   "id": "98502f41",
   "metadata": {},
   "source": [
    "### Load PathMNIST (9 classes)\n",
    "\n",
    "### PathMNIST Dataset (MedMNIST v2)\n",
    "\n",
    "- **Samples:** 107,180 hematoxylin–eosin (H&E) stained image patches (28 × 28 × 3) from colorectal tissue slides.  \n",
    "- **Task type:** *Multi‑class classification*  \n",
    "- **Target column:** `label` (histopathology tissue category)  \n",
    "- **Number of classes:** **9**\n",
    "\n",
    "| Class ID | Tissue category (CoNSeP reference)                     |\n",
    "|----------|--------------------------------------------------------|\n",
    "| `0`      | Adipose                                                |\n",
    "| `1`      | Background                                             |\n",
    "| `2`      | Debris                                                 |\n",
    "| `3`      | Lymphocytes                                            |\n",
    "| `4`      | Mucus                                                  |\n",
    "| `5`      | Smooth muscle                                          |\n",
    "| `6`      | Normal colon mucosa                                    |\n",
    "| `7`      | Cancer‑associated stroma                               |\n",
    "| `8`      | Colorectal adenocarcinoma epithelium                   |\n",
    "\n",
    "Each image patch is RGB and represents a 224 µm² region rescaled to 28 × 28 pixels.  \n",
    "The objective is to correctly assign each patch to one of the nine colorectal tissue types.\n"
   ]
  },
  {
   "cell_type": "code",
   "execution_count": null,
   "id": "d0c3400c",
   "metadata": {},
   "outputs": [],
   "source": [
    "data_flag = 'pathmnist'\n",
    "download = True\n",
    "info = INFO[data_flag]\n",
    "DataClass = getattr(medmnist, info['python_class'])\n",
    "\n",
    "train_transforms = transforms.Compose([\n",
    "    transforms.ToTensor(),\n",
    "    transforms.Normalize(mean=[.5], std=[.5])\n",
    "])\n",
    "\n",
    "train_dataset = DataClass(split='train', transform=train_transforms, download=download)\n",
    "val_dataset   = DataClass(split='val',   transform=train_transforms, download=download)\n",
    "test_dataset  = DataClass(split='test',  transform=train_transforms, download=download)\n",
    "\n",
    "train_loader = DataLoader(train_dataset, batch_size=128, shuffle=True)\n",
    "val_loader   = DataLoader(val_dataset,   batch_size=128, shuffle=False)\n",
    "test_loader  = DataLoader(test_dataset,  batch_size=128, shuffle=False)\n",
    "\n",
    "n_classes = len(info['label'])\n",
    "print('Classes:', n_classes)"
   ]
  },
  {
   "cell_type": "markdown",
   "id": "cfd0fa89",
   "metadata": {},
   "source": [
    "### Define CNN model"
   ]
  },
  {
   "cell_type": "code",
   "execution_count": null,
   "id": "c8e189d3",
   "metadata": {},
   "outputs": [],
   "source": [
    "\n"
   ]
  },
  {
   "cell_type": "markdown",
   "id": "bd5626df",
   "metadata": {},
   "source": [
    "### Training loop"
   ]
  },
  {
   "cell_type": "code",
   "execution_count": null,
   "id": "70744f29",
   "metadata": {},
   "outputs": [],
   "source": [
    "def train_epoch(loader):\n",
    "    # Train each epoch"
   ]
  },
  {
   "cell_type": "code",
   "execution_count": null,
   "id": "c1243cbc",
   "metadata": {},
   "outputs": [],
   "source": [
    "def eval_epoch(loader):\n",
    "    # Evaluate after each epoch"
   ]
  },
  {
   "cell_type": "code",
   "execution_count": null,
   "id": "f5a6f8eb",
   "metadata": {},
   "outputs": [],
   "source": [
    "num_epochs = 10\n",
    "train_losses, val_losses = [], []\n",
    "train_accs, val_accs = [], []\n",
    "for epoch in range(num_epochs):\n",
    "    tr_loss, tr_acc = train_epoch(train_loader)\n",
    "    v_loss, v_acc  = eval_epoch(val_loader)\n",
    "    train_losses.append(tr_loss); val_losses.append(v_loss)\n",
    "    train_accs.append(tr_acc); val_accs.append(v_acc)\n",
    "    print(f'Epoch {epoch+1}/{num_epochs}: train acc={tr_acc:.3f} val acc={v_acc:.3f}')"
   ]
  },
  {
   "cell_type": "markdown",
   "id": "bf6b1897",
   "metadata": {},
   "source": [
    "### Plot learning curves"
   ]
  },
  {
   "cell_type": "code",
   "execution_count": null,
   "id": "90cd8ce4",
   "metadata": {},
   "outputs": [],
   "source": []
  },
  {
   "cell_type": "markdown",
   "id": "7a0174ad",
   "metadata": {},
   "source": [
    "### Test set evaluation"
   ]
  },
  {
   "cell_type": "code",
   "execution_count": null,
   "id": "436237fb",
   "metadata": {},
   "outputs": [],
   "source": [
    "# Evaluate with testset\n",
    "# Print classification summary, AUC, ROC "
   ]
  },
  {
   "cell_type": "markdown",
   "id": "e3643257",
   "metadata": {},
   "source": [
    "### Save the model"
   ]
  },
  {
   "cell_type": "code",
   "execution_count": null,
   "id": "b6b50638",
   "metadata": {},
   "outputs": [],
   "source": []
  },
  {
   "cell_type": "code",
   "execution_count": null,
   "id": "8872df65",
   "metadata": {},
   "outputs": [],
   "source": []
  },
  {
   "cell_type": "markdown",
   "id": "4f41bd53",
   "metadata": {},
   "source": [
    "> **Next steps**: Try data augmentation (`RandomHorizontalFlip`, `RandomRotation`), deeper models like ResNet‑18 via `torchvision.models`, focal loss for class imbalance, or mixed‑precision training."
   ]
  }
 ],
 "metadata": {
  "language_info": {
   "name": "python"
  }
 },
 "nbformat": 4,
 "nbformat_minor": 5
}
