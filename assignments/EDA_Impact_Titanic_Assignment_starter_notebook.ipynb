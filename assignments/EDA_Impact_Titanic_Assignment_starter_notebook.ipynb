{
 "cells": [
  {
   "cell_type": "markdown",
   "id": "9d0b9350",
   "metadata": {},
   "source": [
    "# 🧪 Assignment: EDA Impact on Model Accuracy – Titanic Dataset\n",
    "\n",
    "## 🎯 Objective\n",
    "In this assignment, you will:\n",
    "- Understand how Exploratory Data Analysis (EDA) can improve machine learning models.\n",
    "- Train a model with minimal preprocessing.\n",
    "- Perform detailed EDA and feature engineering.\n",
    "- Retrain the model and compare performance.\n"
   ]
  },
  {
   "cell_type": "code",
   "execution_count": null,
   "id": "9f81c1b2",
   "metadata": {},
   "outputs": [],
   "source": [
    "# Step 1: Load Libraries and Dataset\n",
    "import pandas as pd\n",
    "import numpy as np\n",
    "import matplotlib.pyplot as plt\n",
    "import seaborn as sns\n",
    "\n",
    "from sklearn.model_selection import train_test_split\n",
    "from sklearn.preprocessing import LabelEncoder, StandardScaler\n",
    "from sklearn.linear_model import LogisticRegression\n",
    "from sklearn.metrics import accuracy_score, classification_report, confusion_matrix\n",
    "\n",
    "# Load dataset (Upload 'train.csv' from Titanic Kaggle dataset)\n",
    "# Download the dataset and upload it in colab\n",
    "# https://www.kaggle.com/c/titanic\n",
    "#\n",
    "\n",
    "# Use the right path\n",
    "df = pd.read_csv('train.csv')\n",
    "df.head()"
   ]
  },
  {
   "cell_type": "code",
   "execution_count": null,
   "id": "e98c4a7b",
   "metadata": {},
   "outputs": [],
   "source": [
    "# Step 2: Baseline Model (Minimal preprocessing)\n",
    "df_baseline = df[['Pclass', 'Sex', 'Age', 'Survived']].dropna()\n",
    "df_baseline['Sex'] = LabelEncoder().fit_transform(df_baseline['Sex'])\n",
    "\n",
    "X = df_baseline[['Pclass', 'Sex', 'Age']]\n",
    "y = df_baseline['Survived']\n",
    "\n",
    "X_train, X_test, y_train, y_test = train_test_split(X, y, test_size=0.2, random_state=42)\n",
    "\n",
    "model = LogisticRegression()\n",
    "model.fit(X_train, y_train)\n",
    "y_pred = model.predict(X_test)\n",
    "\n",
    "print(\"Accuracy (Baseline):\", accuracy_score(y_test, y_pred))"
   ]
  },
  {
   "cell_type": "markdown",
   "id": "4c91b851",
   "metadata": {},
   "source": [
    "## 🔍 Step 3: EDA\n",
    "Explore the dataset and look for:\n",
    "- Missing values (`df.isnull().sum()`)\n",
    "- Correlations (`sns.heatmap(df.corr(), annot=True)`)\n",
    "- Survival rate across features:\n",
    "  - `sns.barplot(x='Sex', y='Survived', data=df)`\n",
    "  - `sns.histplot(data=df, x='Age', hue='Survived', bins=20)`\n",
    "- Distribution of Pclass, Fare, Embarked, etc.\n",
    "- Feature interactions (e.g., `FamilySize = SibSp + Parch`)\n"
   ]
  },
  {
   "cell_type": "code",
   "execution_count": null,
   "id": "f82561bd",
   "metadata": {},
   "outputs": [],
   "source": [
    "# Step 4: Feature Engineering based on EDA\n",
    "# Impute some features\n",
    "\n",
    "# Encode categorical variables\n",
    "\n",
    "# Select relevant features\n",
    "\n",
    "\n",
    "# Feature Scaling\n"
   ]
  },
  {
   "cell_type": "code",
   "execution_count": null,
   "id": "fb01cab2",
   "metadata": {},
   "outputs": [],
   "source": [
    "# Step 5: Train Model After EDA\n",
    "model = LogisticRegression()\n",
    "model.fit(X_train, y_train)\n",
    "y_pred = model.predict(X_test)\n",
    "\n",
    "print(\"Accuracy (After EDA):\", accuracy_score(y_test, y_pred))\n",
    "print(confusion_matrix(y_test, y_pred))\n",
    "print(classification_report(y_test, y_pred))\n",
    "\n",
    "#Step 6: Try other models such as randomforest, xgboost\n"
   ]
  },
  {
   "cell_type": "markdown",
   "id": "14450aee",
   "metadata": {},
   "source": [
    "## 🧠 Final Reflection\n",
    "1. Compare the accuracy before and after EDA.\n",
    "2. What features or cleaning steps made the biggest difference?\n",
    "3. Why is skipping EDA risky in real-world machine learning projects?\n"
   ]
  }
 ],
 "metadata": {
  "language_info": {
   "name": "python"
  }
 },
 "nbformat": 4,
 "nbformat_minor": 5
}
